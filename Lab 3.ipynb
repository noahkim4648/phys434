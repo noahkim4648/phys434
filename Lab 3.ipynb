{
 "cells": [
  {
   "cell_type": "markdown",
   "metadata": {},
   "source": [
    "# Lab 3 Report\n",
    "Qinchen lin"
   ]
  },
  {
   "cell_type": "code",
   "execution_count": 72,
   "metadata": {},
   "outputs": [],
   "source": [
    "%matplotlib inline\n",
    "import numpy as np\n",
    "import matplotlib\n",
    "import matplotlib.pyplot as plt\n",
    "import scipy\n",
    "from scipy import stats\n",
    "import pandas as pd\n",
    "from scipy.stats import poisson"
   ]
  },
  {
   "cell_type": "markdown",
   "metadata": {},
   "source": [
    "# Problem 1"
   ]
  },
  {
   "cell_type": "code",
   "execution_count": 129,
   "metadata": {},
   "outputs": [
    {
     "data": {
      "image/png": "[encoded data removed]",
      "text/plain": [
       "<Figure size 432x288 with 1 Axes>"
      ]
     },
     "metadata": {
      "needs_background": "light"
     },
     "output_type": "display_data"
    },
    {
     "name": "stdout",
     "output_type": "stream",
     "text": [
      "the upper threshhold is 13.2\n",
      "the lower threshhold is 10.8\n",
      "Truth Table\n"
     ]
    },
    {
     "data": {
      "text/html": [
       "<div>\n",
       "<style scoped>\n",
       "    .dataframe tbody tr th:only-of-type {\n",
       "        vertical-align: middle;\n",
       "    }\n",
       "\n",
       "    .dataframe tbody tr th {\n",
       "        vertical-align: top;\n",
       "    }\n",
       "\n",
       "    .dataframe thead th {\n",
       "        text-align: right;\n",
       "    }\n",
       "</style>\n",
       "<table border=\"1\" class=\"dataframe\">\n",
       "  <thead>\n",
       "    <tr style=\"text-align: right;\">\n",
       "      <th></th>\n",
       "      <th>True</th>\n",
       "      <th>False</th>\n",
       "    </tr>\n",
       "  </thead>\n",
       "  <tbody>\n",
       "    <tr>\n",
       "      <th>Pos</th>\n",
       "      <td>0.99749</td>\n",
       "      <td>0.125</td>\n",
       "    </tr>\n",
       "    <tr>\n",
       "      <th>Neg</th>\n",
       "      <td>0.00251</td>\n",
       "      <td>0.875</td>\n",
       "    </tr>\n",
       "  </tbody>\n",
       "</table>\n",
       "</div>"
      ],
      "text/plain": [
       "        True  False\n",
       "Pos  0.99749  0.125\n",
       "Neg  0.00251  0.875"
      ]
     },
     "execution_count": 129,
     "metadata": {},
     "output_type": "execute_result"
    }
   ],
   "source": [
    "# a\n",
    "\n",
    "gooddata = stats.norm.rvs(12, 0.4, 100000)\n",
    "baddata = [10., 10.3, 2.1, 0., 0., 15.6, 22.3, 12.7]\n",
    "baddata = np.asarray(baddata)\n",
    "data = np.concatenate((gooddata, baddata))\n",
    "fig, ax = plt.subplots(1,1)\n",
    "ax.hist(data, 100, density = 'true', label = 'good data' )\n",
    "ax.plot(baddata, np.linspace(0,0,8) , '.',color ='r', label = 'baddata')\n",
    "plt.title(\"Temperature Data\")\n",
    "plt.xlabel('Temperature/ K')\n",
    "plt.legend()\n",
    "plt.show()\n",
    "# By ploting the data, we can tell that most of the bad data falls out of 3 standard deviation away from the mean\n",
    "# so it's reasonable to choose 3 sigma significance to determin the threshhold. It should be noted that in this case \n",
    "# we already know what's the bad data, which is not likely to be the general case in the real world. But the 3 sigma\n",
    "# value is still a reasonable value \n",
    "\n",
    "# Statistical question: If my data follows the normal distribution with mean to be 12 and sd to be 0.4, what's the \n",
    "# temperature threshold to determine wether a data is good or bad if I chose the data that falls outside of \n",
    "# 3 sigma to be bad data\n",
    "\n",
    "# I chose this statisitical question because I need to find my threshold for determining a good/bad data\n",
    "\n",
    "# Math question: Do the integral on the standard normal distribution to get the probability from negative infinity\n",
    "# to -3 (call it p_lower) and from 3 to possitive infinity (call it p_upper). Then do the integral on the \n",
    "# normal distribution (mean value to be 12 and the sd to be 0.4) from negative infinity to some threshhold that \n",
    "# gives the same probability as p_lower. Then repeat the process but from possitive infinity to some threshold\n",
    "# that will gives the same probability as p_upper. What's the value of two threshholds\n",
    "\n",
    "threshhold_upper = stats.norm.ppf(stats.norm.cdf(3), 12, 0.4)\n",
    "threshhold_lower = 12 - (threshhold_upper - 12)\n",
    "print('the upper threshhold is', threshhold_upper)\n",
    "print('the lower threshhold is',threshhold_lower)\n",
    "\n",
    "data_discarded = len(data[data > 13.2]) + len(data[data < 10.8])\n",
    "data_accepted = len(data) - data_discarded \n",
    "baddata_discarded = len(baddata[baddata > 13.2]) +len(baddata[baddata < 10.8])\n",
    "baddata_accepted = len(baddata) - baddata_discarded\n",
    "                        \n",
    "p_truePos = (data_accepted - baddata_accepted) / len(gooddata)\n",
    "p_falseNeg = baddata_discarded / len(baddata)\n",
    "p_trueNeg = 1 - p_truePos\n",
    "p_falsePos = 1 - p_falseNeg\n",
    "\n",
    "truefalse = {'True':[p_truePos, p_trueNeg], 'False':[p_falsePos, p_falseNeg]}\n",
    "print('Truth Table')\n",
    "table = pd.DataFrame(truefalse, index = ['Pos','Neg'])\n",
    "table\n"
   ]
  },
  {
   "cell_type": "markdown",
   "metadata": {},
   "source": [
    "# Discussion\n",
    "As I changed the statistical threshhold to be smaller (such as 2 sigma), more good data were thrown. It is predictable quantity in this case because the number of good data (100k) is way larger than the number of bad data (8), and the good data follows normal distribution. If the weight of the good data and the bad data become more even, the quantity will be less predictable.\n",
    "\n",
    "Yes, the bad data still comes in when I chose smaller threshhold (2 sigma), becasue one of the bad data 12.7 is within 2 standard diviations. It is avoidable in this case but it will be some trade off. To be specifically, I could choose 1 sigma to be my threshhold in order to filter out 12.7. But if i do so, more good data will be thrown. In general, the closer that bad data values are to the mean value, the higher price it will be to filter out those bad data."
   ]
  },
  {
   "cell_type": "markdown",
   "metadata": {},
   "source": [
    "# Problem 2"
   ]
  },
  {
   "cell_type": "markdown",
   "metadata": {},
   "source": [
    "# Discussion\n",
    "It's given that the result distribution is 2D normal distribution, and the distance between two point follows the fomular of d = sqrt(x^2 + y^2). So we can use the Rayleigh distribution to make the detection of movement since\n",
    "the Rayleigh distribution can be in the form of R = sqrt(X^2 + Y^2) if X and Y are both normal distribution with the same mean and standard\n",
    "deviation. For this problem specificlly, X and Y are two standard normal distributions. So I would use a Rayleigh distribution with the standard deviation of 1. It will be referred to as distance Rayleigh distribution latter. \n",
    "\n",
    "Becuase the goal is to detect wether a movement is a true movement, so the greater the distance is, the more likely that it's a true movement. With that being said, only the lower threhhold is needed for this detection. And here I use 5 sigma to find my lower threshhold.\n",
    "\n",
    "Question in word: Assuming my background distribution is a Rayleigh Distribution with the standard diviation of 1 arcsecond. And the greater the value is, the more likely that it's a true movment. What's the minimum distance that we can claim the true movement if we use the 5 sigma significance.   \n",
    "\n",
    "Question in math: First integrate the standard normal distribution from 5 sigma to positive infinity to get the probability. Then integrate the distance Rayleigh distribution from positive infinity to some value that gives \n",
    "the same probability. What's that value?"
   ]
  },
  {
   "cell_type": "markdown",
   "metadata": {},
   "source": [
    "# Problem 3"
   ]
  },
  {
   "cell_type": "code",
   "execution_count": 113,
   "metadata": {},
   "outputs": [
    {
     "data": {
      "image/png": "[encoded data removed]",
      "text/plain": [
       "<Figure size 432x288 with 1 Axes>"
      ]
     },
     "metadata": {
      "needs_background": "light"
     },
     "output_type": "display_data"
    },
    {
     "name": "stdout",
     "output_type": "stream",
     "text": [
      "The moon shadow detection has a significance of -4.750747965777188 sigma\n"
     ]
    }
   ],
   "source": [
    "# Because the moon blocks cosmic rays, so the less ray counts is more signal like\n",
    "\n",
    "# The background distribution is Poisson distribution\n",
    "# Because the convolution of Poisson distributions is also a Poisson distribution. So the probability mass\n",
    "# distribution for 15 days will just be the Poisson distribution with the mean of 1 * 60 * 8 * 15 = 7200\n",
    "\n",
    "# statistical quesiton : Assuming my background data distribution is a Poisson Distribution with \n",
    "# the average rate to be 7200 counts. What's the probability (in sigma) that I will have a measurement of \n",
    "# 6800 counts or less.\n",
    "\n",
    "# question in math: Integrate the background Poisson distribution from the negative infinity to 6800 to get \n",
    "# the probability. Then integrate the standard normal distribution from the negative infinity to the sigma value\n",
    "# that gives the same probability. What's the sigma value here?\n",
    "\n",
    "AverageRate = 7200\n",
    "counts = np.linspace(0, 10000, 10001)\n",
    "p_cosmicrays = poisson.pmf(counts, AverageRate)  \n",
    "fig1 = plt.figure(1)\n",
    "plt.plot(counts, p_cosmicrays,'.')\n",
    "plt.xlim(6000, 8500)\n",
    "plt.title('Probability Mass Distribution for Cosmic Ray Counts in 15 Days')\n",
    "plt.xlabel('Cosmic Ray Counts')\n",
    "plt.ylabel('Probability Mass')\n",
    "plt.show()\n",
    "\n",
    "p_lessThan6800 = poisson.cdf(6800, 7200)\n",
    "sigma = stats.norm.ppf(p_lessThan6800)\n",
    "print('The moon shadow detection has a significance of', sigma, 'sigma')"
   ]
  }
 ],
 "metadata": {
  "kernelspec": {
   "display_name": "Python 3",
   "language": "python",
   "name": "python3"
  },
  "language_info": {
   "codemirror_mode": {
    "name": "ipython",
    "version": 3
   },
   "file_extension": ".py",
   "mimetype": "text/x-python",
   "name": "python",
   "nbconvert_exporter": "python",
   "pygments_lexer": "ipython3",
   "version": "3.7.1"
  }
 },
 "nbformat": 4,
 "nbformat_minor": 2
}
