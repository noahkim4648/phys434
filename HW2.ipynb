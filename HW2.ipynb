{
 "cells": [
  {
   "cell_type": "markdown",
   "metadata": {},
   "source": [
    "# HW 2\n",
    "Qinchen Lin"
   ]
  },
  {
   "cell_type": "code",
   "execution_count": 118,
   "metadata": {},
   "outputs": [],
   "source": [
    "%matplotlib inline\n",
    "import numpy as np\n",
    "import matplotlib\n",
    "import matplotlib.pyplot as plt\n",
    "import scipy\n",
    "from scipy import stats"
   ]
  },
  {
   "cell_type": "markdown",
   "metadata": {},
   "source": [
    "# Problem 1\n",
    "The probability of getting a sum of 7 is greater because this even has more possible outcomes. To be specific, \n",
    "1+6, 2+5, 3+4, 4+3, 5+2nd 6+1 can all sum up to be seven. But for snake eyes, there is only one possible outcome 1+1.\n",
    "The ratio will be the ratio of the # of outcomes, which is 1/6"
   ]
  },
  {
   "cell_type": "markdown",
   "metadata": {},
   "source": [
    "# Problem 2\n",
    "\n",
    "Math part\n",
    "\n",
    "Assuming two x value of two function to be 1, 2, 3, 4, 5, 6 and 6, 5, 4, 3, 2, 1. Each fuciton of the same y value 1/6 for all x values. Then do the convolution\n",
    "\n",
    "outcomes:\n",
    "\n",
    "2: 1/36, 3: 1/18, 4: 1/12, 5: 1/9, 6: 5/36, 7: 1/6, 8: 5/36, 9: 1/9, 10: 1/12, 11:1/18, 12: 1/36 \n"
   ]
  },
  {
   "cell_type": "code",
   "execution_count": 119,
   "metadata": {},
   "outputs": [
    {
     "data": {
      "image/png": "[encoded data removed]",
      "text/plain": [
       "<Figure size 432x288 with 1 Axes>"
      ]
     },
     "metadata": {
      "needs_background": "light"
     },
     "output_type": "display_data"
    }
   ],
   "source": [
    "# Computing part\n",
    "\n",
    "p = [1/6,1/6,1/6,1/6,1/6,1/6]\n",
    "outcomes = np.linspace(2,12,11)\n",
    "p_twodices = np.convolve(p, p)\n",
    "fig, ax = plt.subplots(1,1)\n",
    "ax.plot(outcomes, p_twodices, '.')\n",
    "plt.xlabel('Sum of Two Dices')\n",
    "plt.ylabel('Probability')\n",
    "plt.show()\n"
   ]
  },
  {
   "cell_type": "markdown",
   "metadata": {},
   "source": [
    "# Problem 3"
   ]
  },
  {
   "cell_type": "code",
   "execution_count": 120,
   "metadata": {},
   "outputs": [
    {
     "name": "stdout",
     "output_type": "stream",
     "text": [
      "7.0\n",
      "5.833333333333336\n"
     ]
    }
   ],
   "source": [
    "mean = sum(outcomes * p_twodices)\n",
    "print(mean)\n",
    "variance = sum((outcomes)**2 * p_twodices) - mean**2\n",
    "print(variance)"
   ]
  },
  {
   "cell_type": "markdown",
   "metadata": {},
   "source": [
    "# Problem 4"
   ]
  },
  {
   "cell_type": "code",
   "execution_count": 121,
   "metadata": {},
   "outputs": [
    {
     "data": {
      "image/png": "[encoded data removed]",
      "text/plain": [
       "<Figure size 432x288 with 1 Axes>"
      ]
     },
     "metadata": {
      "needs_background": "light"
     },
     "output_type": "display_data"
    }
   ],
   "source": [
    "i = 0\n",
    "p_new = p\n",
    "for i in range(9) :\n",
    "    p_new = np.convolve(p_new, p)\n",
    "fig2, ax2 = plt.subplots(1,1)\n",
    "x_new = np.linspace(10, 60, 51)\n",
    "ax2.plot(x_new/10, p_new, '.')\n",
    "plt.show()"
   ]
  },
  {
   "cell_type": "markdown",
   "metadata": {},
   "source": [
    "This is a normal distribution, at least very close to it. According to the Central Limit Theorem, the sampling distribution of the sample means approaches a normal distribution as the sample size gets larger. As we keep convoluting the orignial distributionwith itself (averaging the original distribution), the new distribution will be closer and closer to the normal distribution."
   ]
  },
  {
   "cell_type": "markdown",
   "metadata": {},
   "source": [
    "# Problem 5"
   ]
  },
  {
   "cell_type": "markdown",
   "metadata": {},
   "source": [
    "Assuming we have two normal distribution X(t) and Y(t) with mean of u_x and u_y, varians of v_x and v_y\n",
    "\n",
    "The sum of two distribution is also normal distribution. Prove:\n",
    "\n",
    "X(t)+Y(t) = exp(i*t*u_x - v_x^2*x^(t^2)) * exp(i*t*u_y - v_y^2 * x^(t^2))\n",
    "= exp(it*(u_x + u_y) - ((v_x^2 + v_y^2)*t^2)/2) As a result, new normal distribution will have a new mean of u_x + u_y and a new varians of (v_x^2 + v_y^2)\n",
    "\n",
    "\n"
   ]
  },
  {
   "cell_type": "markdown",
   "metadata": {},
   "source": [
    "The average of normal distributions are just the sum of them over some factor (call it n). By using sam example as above. It's still a normal distribution but with new mean of (u_x + u_y) and a new varians of (v_x/n)^2+ (v_y/n)^2"
   ]
  },
  {
   "cell_type": "markdown",
   "metadata": {},
   "source": [
    "# Note\n",
    "\n",
    "Sorry to have problem 5 to be formated badly, I really don't now how to prove thing analyticly in Python"
   ]
  },
  {
   "cell_type": "code",
   "execution_count": null,
   "metadata": {},
   "outputs": [],
   "source": []
  }
 ],
 "metadata": {
  "kernelspec": {
   "display_name": "Python 3",
   "language": "python",
   "name": "python3"
  },
  "language_info": {
   "codemirror_mode": {
    "name": "ipython",
    "version": 3
   },
   "file_extension": ".py",
   "mimetype": "text/x-python",
   "name": "python",
   "nbconvert_exporter": "python",
   "pygments_lexer": "ipython3",
   "version": "3.7.1"
  }
 },
 "nbformat": 4,
 "nbformat_minor": 2
}
